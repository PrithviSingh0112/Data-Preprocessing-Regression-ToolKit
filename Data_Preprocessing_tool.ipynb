{
  "cells": [
    {
      "cell_type": "markdown",
      "metadata": {
        "id": "P5C76E9x7GAf"
      },
      "source": [
        "Importing Libraries"
      ]
    },
    {
      "cell_type": "code",
      "execution_count": 12,
      "metadata": {
        "id": "L1psyyVWyb-w"
      },
      "outputs": [],
      "source": [
        "import numpy as np\n",
        "import matplotlib.pyplot as plt\n",
        "import pandas as pd\n"
      ]
    },
    {
      "cell_type": "markdown",
      "metadata": {
        "id": "tNflpaLx7K8J"
      },
      "source": [
        "Importing Dataset"
      ]
    },
    {
      "cell_type": "code",
      "execution_count": 13,
      "metadata": {
        "id": "wCfeCdyDycBp"
      },
      "outputs": [],
      "source": [
        "dataset =  pd.read_csv('Data.csv')\n",
        "x = dataset.iloc[:, :-1].values\n",
        "y = dataset.iloc[:,-1].values"
      ]
    },
    {
      "cell_type": "code",
      "execution_count": 14,
      "metadata": {
        "colab": {
          "base_uri": "https://localhost:8080/"
        },
        "id": "VRJu3I5fycEw",
        "outputId": "7239bb73-c814-4171-9753-dce3127fd390"
      },
      "outputs": [
        {
          "name": "stdout",
          "output_type": "stream",
          "text": [
            "[[  14.96   41.76 1024.07   73.17]\n",
            " [  25.18   62.96 1020.04   59.08]\n",
            " [   5.11   39.4  1012.16   92.14]\n",
            " ...\n",
            " [  31.32   74.33 1012.92   36.48]\n",
            " [  24.48   69.45 1013.86   62.39]\n",
            " [  21.6    62.52 1017.23   67.87]]\n"
          ]
        }
      ],
      "source": [
        "print(x)\n"
      ]
    },
    {
      "cell_type": "code",
      "execution_count": 15,
      "metadata": {
        "colab": {
          "base_uri": "https://localhost:8080/"
        },
        "id": "VWHrnZ_-36ct",
        "outputId": "4a506c85-8cc7-418c-bf3a-efe6111a293d"
      },
      "outputs": [
        {
          "name": "stdout",
          "output_type": "stream",
          "text": [
            "[463.26 444.37 488.56 ... 429.57 435.74 453.28]\n"
          ]
        }
      ],
      "source": [
        "print(y)"
      ]
    },
    {
      "cell_type": "markdown",
      "metadata": {
        "id": "BQ6vPOKP7Plb"
      },
      "source": [
        "Taking Care Of Missing data"
      ]
    },
    {
      "cell_type": "code",
      "execution_count": 16,
      "metadata": {
        "id": "q8cDHRom36f8"
      },
      "outputs": [],
      "source": [
        "from sklearn.impute import SimpleImputer\n",
        "imputer = SimpleImputer(missing_values=np.nan,strategy=\"mean\")\n",
        "imputer.fit(x[:,1:3])\n",
        "imputer.transform(x[:,1:3])\n",
        "x[:,1:3] = imputer.transform(x[:,1:3])"
      ]
    },
    {
      "cell_type": "code",
      "execution_count": 17,
      "metadata": {
        "colab": {
          "base_uri": "https://localhost:8080/"
        },
        "id": "OoQ4AQVR6iLM",
        "outputId": "1a6a5226-4f48-4a47-a581-7cf6f13f7f6b"
      },
      "outputs": [
        {
          "name": "stdout",
          "output_type": "stream",
          "text": [
            "[[  14.96   41.76 1024.07   73.17]\n",
            " [  25.18   62.96 1020.04   59.08]\n",
            " [   5.11   39.4  1012.16   92.14]\n",
            " ...\n",
            " [  31.32   74.33 1012.92   36.48]\n",
            " [  24.48   69.45 1013.86   62.39]\n",
            " [  21.6    62.52 1017.23   67.87]]\n"
          ]
        }
      ],
      "source": [
        "print(x)"
      ]
    },
    {
      "cell_type": "markdown",
      "metadata": {
        "id": "zsP5sTuQ7WHh"
      },
      "source": [
        "Encoding Categorical Data"
      ]
    },
    {
      "cell_type": "markdown",
      "metadata": {
        "id": "MfSSsrhT79hI"
      },
      "source": [
        "Encoding Independent Variable"
      ]
    },
    {
      "cell_type": "code",
      "execution_count": 18,
      "metadata": {
        "colab": {
          "base_uri": "https://localhost:8080/"
        },
        "id": "Q5SetOvb6tr7",
        "outputId": "a5d02c56-6a10-4553-9e77-efaebf1abb41"
      },
      "outputs": [
        {
          "name": "stdout",
          "output_type": "stream",
          "text": [
            "[463.26 444.37 488.56 ... 429.57 435.74 453.28]\n"
          ]
        }
      ],
      "source": [
        "print(y)"
      ]
    },
    {
      "cell_type": "markdown",
      "metadata": {
        "id": "78qL7qjF-edY"
      },
      "source": [
        "Splitting the dataset into Training Set and testing Set"
      ]
    },
    {
      "cell_type": "code",
      "execution_count": 19,
      "metadata": {
        "id": "TuxghXHI6tuz"
      },
      "outputs": [],
      "source": [
        "from sklearn.model_selection import train_test_split\n",
        "x_train,x_test,y_train,y_test = train_test_split(x,y,test_size= 0.2, random_state=1)"
      ]
    },
    {
      "cell_type": "code",
      "execution_count": 20,
      "metadata": {
        "colab": {
          "base_uri": "https://localhost:8080/"
        },
        "id": "TZQx3lHX-nBh",
        "outputId": "0013b5e4-14c1-4c88-9994-041b1d8b17cb"
      },
      "outputs": [
        {
          "name": "stdout",
          "output_type": "stream",
          "text": [
            "[[   6.61   38.91 1015.77   92.31]\n",
            " [  22.72   65.61 1014.64   70.53]\n",
            " [  10.06   39.61 1018.22   70.22]\n",
            " ...\n",
            " [  18.59   39.54 1008.56   68.61]\n",
            " [  22.96   45.01 1012.21   50.81]\n",
            " [  20.5    49.69 1009.6    70.81]]\n"
          ]
        }
      ],
      "source": [
        "print(x_train)"
      ]
    },
    {
      "cell_type": "code",
      "execution_count": 21,
      "metadata": {
        "colab": {
          "base_uri": "https://localhost:8080/"
        },
        "id": "DozfH5Rj-nFQ",
        "outputId": "ea7e3bd4-c53a-44d5-81ff-ed5d5285a33f"
      },
      "outputs": [
        {
          "name": "stdout",
          "output_type": "stream",
          "text": [
            "[[  17.93   44.63 1003.54   87.41]\n",
            " [  16.34   42.28 1008.08   52.8 ]\n",
            " [  25.97   70.32 1007.48   57.01]\n",
            " ...\n",
            " [  10.68   38.38 1020.79   72.33]\n",
            " [  34.03   73.56 1006.49   51.07]\n",
            " [  15.28   44.58 1016.45   83.07]]\n"
          ]
        }
      ],
      "source": [
        "print(x_test)"
      ]
    },
    {
      "cell_type": "code",
      "execution_count": 22,
      "metadata": {
        "colab": {
          "base_uri": "https://localhost:8080/"
        },
        "id": "Hb5n2ph7-nH6",
        "outputId": "9a0286af-cf01-4ad8-87cc-987db4242831"
      },
      "outputs": [
        {
          "name": "stdout",
          "output_type": "stream",
          "text": [
            "[484.32 449.04 471.86 ... 462.56 450.37 452.94]\n"
          ]
        }
      ],
      "source": [
        "print(y_train)"
      ]
    },
    {
      "cell_type": "code",
      "execution_count": 23,
      "metadata": {
        "colab": {
          "base_uri": "https://localhost:8080/"
        },
        "id": "kVI_mNQm-nKt",
        "outputId": "876836b6-8880-46cc-f9d2-37fe69ea8449"
      },
      "outputs": [
        {
          "name": "stdout",
          "output_type": "stream",
          "text": [
            "[458.96 463.29 435.27 ... 476.22 440.29 467.92]\n"
          ]
        }
      ],
      "source": [
        "print(y_test)"
      ]
    },
    {
      "cell_type": "markdown",
      "metadata": {
        "id": "L3_9ucXQvE7q"
      },
      "source": [
        "Feature Scaling"
      ]
    },
    {
      "cell_type": "code",
      "execution_count": 24,
      "metadata": {
        "id": "nXXAAVc_vEOs"
      },
      "outputs": [],
      "source": [
        "from sklearn.preprocessing import StandardScaler\n",
        "sc = StandardScaler()\n",
        "x_train[:, 3:] = sc.fit_transform(x_train[: , 3:])\n",
        "x_test[:, 3:] = sc.transform(x_test[: , 3:])\n"
      ]
    },
    {
      "cell_type": "code",
      "execution_count": 25,
      "metadata": {
        "colab": {
          "base_uri": "https://localhost:8080/"
        },
        "id": "yUedrnCaz9RU",
        "outputId": "53b017f1-3581-4693-d331-847177709968"
      },
      "outputs": [
        {
          "name": "stdout",
          "output_type": "stream",
          "text": [
            "[[ 1.79300000e+01  4.46300000e+01  1.00354000e+03  9.65947020e-01]\n",
            " [ 1.63400000e+01  4.22800000e+01  1.00808000e+03 -1.41293590e+00]\n",
            " [ 2.59700000e+01  7.03200000e+01  1.00748000e+03 -1.12356586e+00]\n",
            " ...\n",
            " [ 1.06800000e+01  3.83800000e+01  1.02079000e+03 -7.05613447e-02]\n",
            " [ 3.40300000e+01  7.35600000e+01  1.00649000e+03 -1.53184568e+00]\n",
            " [ 1.52800000e+01  4.45800000e+01  1.01645000e+03  6.67641562e-01]]\n"
          ]
        }
      ],
      "source": [
        "print(x_test)"
      ]
    },
    {
      "cell_type": "code",
      "execution_count": 26,
      "metadata": {
        "colab": {
          "base_uri": "https://localhost:8080/"
        },
        "id": "KL4QlF13z4EE",
        "outputId": "b87952d5-9d0c-42fd-db97-82b6e4639cb9"
      },
      "outputs": [
        {
          "name": "stdout",
          "output_type": "stream",
          "text": [
            "[[ 6.61000000e+00  3.89100000e+01  1.01577000e+03  1.30274350e+00]\n",
            " [ 2.27200000e+01  6.56100000e+01  1.01464000e+03 -1.94282502e-01]\n",
            " [ 1.00600000e+01  3.96100000e+01  1.01822000e+03 -2.15590035e-01]\n",
            " ...\n",
            " [ 1.85900000e+01  3.95400000e+01  1.00856000e+03 -3.26251737e-01]\n",
            " [ 2.29600000e+01  4.50100000e+01  1.01221000e+03 -1.54971652e+00]\n",
            " [ 2.05000000e+01  4.96900000e+01  1.00960000e+03 -1.75036989e-01]]\n"
          ]
        }
      ],
      "source": [
        "print(x_train)"
      ]
    }
  ],
  "metadata": {
    "colab": {
      "name": "Welcome To Colab",
      "provenance": []
    },
    "kernelspec": {
      "display_name": "Python 3",
      "name": "python3"
    },
    "language_info": {
      "codemirror_mode": {
        "name": "ipython",
        "version": 3
      },
      "file_extension": ".py",
      "mimetype": "text/x-python",
      "name": "python",
      "nbconvert_exporter": "python",
      "pygments_lexer": "ipython3",
      "version": "3.11.6"
    }
  },
  "nbformat": 4,
  "nbformat_minor": 0
}
